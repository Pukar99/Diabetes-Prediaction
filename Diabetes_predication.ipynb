{
 "cells": [
  {
   "cell_type": "code",
   "execution_count": 3,
   "id": "fa40c92f",
   "metadata": {},
   "outputs": [],
   "source": [
    "# first we imports all the necessaries libraries"
   ]
  },
  {
   "cell_type": "code",
   "execution_count": 31,
   "id": "7d8b65cc",
   "metadata": {},
   "outputs": [],
   "source": [
    "import numpy as np \n",
    "import pandas as pd \n",
    "from sklearn. preprocessing import StandardScaler\n",
    "from sklearn.model_selection import train_test_split\n",
    "from sklearn.metrics import accuracy_score\n",
    "\n",
    "# for the algorithms\n",
    "\n",
    "from sklearn import svm\n",
    "from sklearn.linear_model import LogisticRegression\n",
    "from sklearn.neighbors import KNeighborsClassifier\n",
    "from sklearn.naive_bayes import GaussianNB\n",
    "from sklearn.tree import DecisionTreeClassifier\n",
    "from sklearn.ensemble import RandomForestClassifier\n",
    "     "
   ]
  },
  {
   "cell_type": "markdown",
   "id": "cc5bb4ed",
   "metadata": {},
   "source": [
    "<!-- numpy: A library for numerical operations. Commonly used for handling arrays and matrices.\n",
    "pandas: Essential for data manipulation and analysis. It's typically used for handling data in DataFrame format.\n",
    "StandardScaler: Part of sklearn.preprocessing, it's used to standardize the features by removing the mean and scaling to unit variance.\n",
    "train_test_split: From sklearn.model_selection, this function is used to split the dataset into training and testing sets.\n",
    "accuracy_score: From sklearn.metrics, it's used to evaluate the performance of your model, specifically how often the predictions match the labels. -->"
   ]
  },
  {
   "cell_type": "code",
   "execution_count": 32,
   "id": "3389a20e",
   "metadata": {},
   "outputs": [],
   "source": [
    "# numpy: A library for numerical operations. Commonly used for handling arrays and matrices.\n",
    "# pandas: Essential for data manipulation and analysis. It's typically used for handling data in DataFrame format.\n",
    "# StandardScaler: Part of sklearn.preprocessing, it's used to standardize the features by removing the mean and scaling to unit variance.\n",
    "# train_test_split: From sklearn.model_selection, this function is used to split the dataset into training and testing sets.\n",
    "# accuracy_score: From sklearn.metrics, it's used to evaluate the performance of your model, specifically how often the predictions match the labels."
   ]
  },
  {
   "cell_type": "code",
   "execution_count": 33,
   "id": "fdd71494",
   "metadata": {},
   "outputs": [],
   "source": [
    "# svm: This is the Support Vector Machine algorithm, useful for both regression and classification tasks.\n",
    "# LogisticRegression: A linear model for classification rather than regression.\n",
    "# KNeighborsClassifier: Implements the k-nearest neighbors voting algorithm.\n",
    "# GaussianNB: Represents the Gaussian Naive Bayes algorithm, especially used for large datasets.\n",
    "# DecisionTreeClassifier: A decision tree-based model for classification tasks.\n",
    "# RandomForestClassifier: A type of ensemble learning method, where a group of decision trees is used for classification."
   ]
  },
  {
   "cell_type": "code",
   "execution_count": 34,
   "id": "6513b8e0",
   "metadata": {},
   "outputs": [],
   "source": [
    "diabetes_dataset = pd.read_csv('diabetes.csv')"
   ]
  },
  {
   "cell_type": "code",
   "execution_count": 35,
   "id": "134362c6",
   "metadata": {},
   "outputs": [],
   "source": [
    "# # diabetes_dataset: This is the variable name you've chosen to store the DataFrame. \n",
    "# Once the data is loaded, we can refer to it using this variable.\n",
    "\n",
    "# # pd: This is pandas, a popular data manipulation library in Python. \n",
    "\n",
    "# # read_csv('diabetes.csv'): This is a method from the pandas library that reads a comma-separated values (CSV) file \n",
    "# and converts it into a DataFrame. 'diabetes.csv' is the filename of your dataset. \n",
    "# This file should be in the same directory as your Jupyter notebook unless you specify a path to it."
   ]
  },
  {
   "cell_type": "code",
   "execution_count": 36,
   "id": "94738672",
   "metadata": {},
   "outputs": [
    {
     "data": {
      "text/html": [
       "<div>\n",
       "<style scoped>\n",
       "    .dataframe tbody tr th:only-of-type {\n",
       "        vertical-align: middle;\n",
       "    }\n",
       "\n",
       "    .dataframe tbody tr th {\n",
       "        vertical-align: top;\n",
       "    }\n",
       "\n",
       "    .dataframe thead th {\n",
       "        text-align: right;\n",
       "    }\n",
       "</style>\n",
       "<table border=\"1\" class=\"dataframe\">\n",
       "  <thead>\n",
       "    <tr style=\"text-align: right;\">\n",
       "      <th></th>\n",
       "      <th>Pregnancies</th>\n",
       "      <th>Glucose</th>\n",
       "      <th>BloodPressure</th>\n",
       "      <th>SkinThickness</th>\n",
       "      <th>Insulin</th>\n",
       "      <th>BMI</th>\n",
       "      <th>DiabetesPedigreeFunction</th>\n",
       "      <th>Age</th>\n",
       "      <th>Outcome</th>\n",
       "    </tr>\n",
       "  </thead>\n",
       "  <tbody>\n",
       "    <tr>\n",
       "      <th>0</th>\n",
       "      <td>6</td>\n",
       "      <td>148</td>\n",
       "      <td>72</td>\n",
       "      <td>35</td>\n",
       "      <td>0</td>\n",
       "      <td>33.6</td>\n",
       "      <td>0.627</td>\n",
       "      <td>50</td>\n",
       "      <td>1</td>\n",
       "    </tr>\n",
       "    <tr>\n",
       "      <th>1</th>\n",
       "      <td>1</td>\n",
       "      <td>85</td>\n",
       "      <td>66</td>\n",
       "      <td>29</td>\n",
       "      <td>0</td>\n",
       "      <td>26.6</td>\n",
       "      <td>0.351</td>\n",
       "      <td>31</td>\n",
       "      <td>0</td>\n",
       "    </tr>\n",
       "    <tr>\n",
       "      <th>2</th>\n",
       "      <td>8</td>\n",
       "      <td>183</td>\n",
       "      <td>64</td>\n",
       "      <td>0</td>\n",
       "      <td>0</td>\n",
       "      <td>23.3</td>\n",
       "      <td>0.672</td>\n",
       "      <td>32</td>\n",
       "      <td>1</td>\n",
       "    </tr>\n",
       "    <tr>\n",
       "      <th>3</th>\n",
       "      <td>1</td>\n",
       "      <td>89</td>\n",
       "      <td>66</td>\n",
       "      <td>23</td>\n",
       "      <td>94</td>\n",
       "      <td>28.1</td>\n",
       "      <td>0.167</td>\n",
       "      <td>21</td>\n",
       "      <td>0</td>\n",
       "    </tr>\n",
       "    <tr>\n",
       "      <th>4</th>\n",
       "      <td>0</td>\n",
       "      <td>137</td>\n",
       "      <td>40</td>\n",
       "      <td>35</td>\n",
       "      <td>168</td>\n",
       "      <td>43.1</td>\n",
       "      <td>2.288</td>\n",
       "      <td>33</td>\n",
       "      <td>1</td>\n",
       "    </tr>\n",
       "  </tbody>\n",
       "</table>\n",
       "</div>"
      ],
      "text/plain": [
       "   Pregnancies  Glucose  BloodPressure  SkinThickness  Insulin   BMI  \\\n",
       "0            6      148             72             35        0  33.6   \n",
       "1            1       85             66             29        0  26.6   \n",
       "2            8      183             64              0        0  23.3   \n",
       "3            1       89             66             23       94  28.1   \n",
       "4            0      137             40             35      168  43.1   \n",
       "\n",
       "   DiabetesPedigreeFunction  Age  Outcome  \n",
       "0                     0.627   50        1  \n",
       "1                     0.351   31        0  \n",
       "2                     0.672   32        1  \n",
       "3                     0.167   21        0  \n",
       "4                     2.288   33        1  "
      ]
     },
     "execution_count": 36,
     "metadata": {},
     "output_type": "execute_result"
    }
   ],
   "source": [
    "diabetes_dataset.head()"
   ]
  },
  {
   "cell_type": "code",
   "execution_count": 37,
   "id": "d51bfbcc",
   "metadata": {},
   "outputs": [],
   "source": [
    "#here in the above code we have displayed the first few rows we can also do diabetes_dataset.head(10) to show the next \n",
    "#10datas"
   ]
  },
  {
   "cell_type": "code",
   "execution_count": 38,
   "id": "9ec79863",
   "metadata": {},
   "outputs": [
    {
     "data": {
      "text/html": [
       "<div>\n",
       "<style scoped>\n",
       "    .dataframe tbody tr th:only-of-type {\n",
       "        vertical-align: middle;\n",
       "    }\n",
       "\n",
       "    .dataframe tbody tr th {\n",
       "        vertical-align: top;\n",
       "    }\n",
       "\n",
       "    .dataframe thead th {\n",
       "        text-align: right;\n",
       "    }\n",
       "</style>\n",
       "<table border=\"1\" class=\"dataframe\">\n",
       "  <thead>\n",
       "    <tr style=\"text-align: right;\">\n",
       "      <th></th>\n",
       "      <th>Pregnancies</th>\n",
       "      <th>Glucose</th>\n",
       "      <th>BloodPressure</th>\n",
       "      <th>SkinThickness</th>\n",
       "      <th>Insulin</th>\n",
       "      <th>BMI</th>\n",
       "      <th>DiabetesPedigreeFunction</th>\n",
       "      <th>Age</th>\n",
       "      <th>Outcome</th>\n",
       "    </tr>\n",
       "  </thead>\n",
       "  <tbody>\n",
       "    <tr>\n",
       "      <th>0</th>\n",
       "      <td>6</td>\n",
       "      <td>148</td>\n",
       "      <td>72</td>\n",
       "      <td>35</td>\n",
       "      <td>0</td>\n",
       "      <td>33.6</td>\n",
       "      <td>0.627</td>\n",
       "      <td>50</td>\n",
       "      <td>1</td>\n",
       "    </tr>\n",
       "    <tr>\n",
       "      <th>1</th>\n",
       "      <td>1</td>\n",
       "      <td>85</td>\n",
       "      <td>66</td>\n",
       "      <td>29</td>\n",
       "      <td>0</td>\n",
       "      <td>26.6</td>\n",
       "      <td>0.351</td>\n",
       "      <td>31</td>\n",
       "      <td>0</td>\n",
       "    </tr>\n",
       "    <tr>\n",
       "      <th>2</th>\n",
       "      <td>8</td>\n",
       "      <td>183</td>\n",
       "      <td>64</td>\n",
       "      <td>0</td>\n",
       "      <td>0</td>\n",
       "      <td>23.3</td>\n",
       "      <td>0.672</td>\n",
       "      <td>32</td>\n",
       "      <td>1</td>\n",
       "    </tr>\n",
       "    <tr>\n",
       "      <th>3</th>\n",
       "      <td>1</td>\n",
       "      <td>89</td>\n",
       "      <td>66</td>\n",
       "      <td>23</td>\n",
       "      <td>94</td>\n",
       "      <td>28.1</td>\n",
       "      <td>0.167</td>\n",
       "      <td>21</td>\n",
       "      <td>0</td>\n",
       "    </tr>\n",
       "    <tr>\n",
       "      <th>4</th>\n",
       "      <td>0</td>\n",
       "      <td>137</td>\n",
       "      <td>40</td>\n",
       "      <td>35</td>\n",
       "      <td>168</td>\n",
       "      <td>43.1</td>\n",
       "      <td>2.288</td>\n",
       "      <td>33</td>\n",
       "      <td>1</td>\n",
       "    </tr>\n",
       "    <tr>\n",
       "      <th>5</th>\n",
       "      <td>5</td>\n",
       "      <td>116</td>\n",
       "      <td>74</td>\n",
       "      <td>0</td>\n",
       "      <td>0</td>\n",
       "      <td>25.6</td>\n",
       "      <td>0.201</td>\n",
       "      <td>30</td>\n",
       "      <td>0</td>\n",
       "    </tr>\n",
       "    <tr>\n",
       "      <th>6</th>\n",
       "      <td>3</td>\n",
       "      <td>78</td>\n",
       "      <td>50</td>\n",
       "      <td>32</td>\n",
       "      <td>88</td>\n",
       "      <td>31.0</td>\n",
       "      <td>0.248</td>\n",
       "      <td>26</td>\n",
       "      <td>1</td>\n",
       "    </tr>\n",
       "    <tr>\n",
       "      <th>7</th>\n",
       "      <td>10</td>\n",
       "      <td>115</td>\n",
       "      <td>0</td>\n",
       "      <td>0</td>\n",
       "      <td>0</td>\n",
       "      <td>35.3</td>\n",
       "      <td>0.134</td>\n",
       "      <td>29</td>\n",
       "      <td>0</td>\n",
       "    </tr>\n",
       "    <tr>\n",
       "      <th>8</th>\n",
       "      <td>2</td>\n",
       "      <td>197</td>\n",
       "      <td>70</td>\n",
       "      <td>45</td>\n",
       "      <td>543</td>\n",
       "      <td>30.5</td>\n",
       "      <td>0.158</td>\n",
       "      <td>53</td>\n",
       "      <td>1</td>\n",
       "    </tr>\n",
       "    <tr>\n",
       "      <th>9</th>\n",
       "      <td>8</td>\n",
       "      <td>125</td>\n",
       "      <td>96</td>\n",
       "      <td>0</td>\n",
       "      <td>0</td>\n",
       "      <td>0.0</td>\n",
       "      <td>0.232</td>\n",
       "      <td>54</td>\n",
       "      <td>1</td>\n",
       "    </tr>\n",
       "  </tbody>\n",
       "</table>\n",
       "</div>"
      ],
      "text/plain": [
       "   Pregnancies  Glucose  BloodPressure  SkinThickness  Insulin   BMI  \\\n",
       "0            6      148             72             35        0  33.6   \n",
       "1            1       85             66             29        0  26.6   \n",
       "2            8      183             64              0        0  23.3   \n",
       "3            1       89             66             23       94  28.1   \n",
       "4            0      137             40             35      168  43.1   \n",
       "5            5      116             74              0        0  25.6   \n",
       "6            3       78             50             32       88  31.0   \n",
       "7           10      115              0              0        0  35.3   \n",
       "8            2      197             70             45      543  30.5   \n",
       "9            8      125             96              0        0   0.0   \n",
       "\n",
       "   DiabetesPedigreeFunction  Age  Outcome  \n",
       "0                     0.627   50        1  \n",
       "1                     0.351   31        0  \n",
       "2                     0.672   32        1  \n",
       "3                     0.167   21        0  \n",
       "4                     2.288   33        1  \n",
       "5                     0.201   30        0  \n",
       "6                     0.248   26        1  \n",
       "7                     0.134   29        0  \n",
       "8                     0.158   53        1  \n",
       "9                     0.232   54        1  "
      ]
     },
     "execution_count": 38,
     "metadata": {},
     "output_type": "execute_result"
    }
   ],
   "source": [
    "diabetes_dataset.head(10)"
   ]
  },
  {
   "cell_type": "code",
   "execution_count": 39,
   "id": "e4e03f88",
   "metadata": {},
   "outputs": [
    {
     "data": {
      "text/plain": [
       "(768, 9)"
      ]
     },
     "execution_count": 39,
     "metadata": {},
     "output_type": "execute_result"
    }
   ],
   "source": [
    "diabetes_dataset.shape"
   ]
  },
  {
   "cell_type": "code",
   "execution_count": 40,
   "id": "ea54c4e5",
   "metadata": {},
   "outputs": [],
   "source": [
    "# in the above code its show the dimension of the data sets as 768,9 as rows and columns"
   ]
  },
  {
   "cell_type": "code",
   "execution_count": 41,
   "id": "742a969e",
   "metadata": {},
   "outputs": [
    {
     "data": {
      "text/html": [
       "<div>\n",
       "<style scoped>\n",
       "    .dataframe tbody tr th:only-of-type {\n",
       "        vertical-align: middle;\n",
       "    }\n",
       "\n",
       "    .dataframe tbody tr th {\n",
       "        vertical-align: top;\n",
       "    }\n",
       "\n",
       "    .dataframe thead th {\n",
       "        text-align: right;\n",
       "    }\n",
       "</style>\n",
       "<table border=\"1\" class=\"dataframe\">\n",
       "  <thead>\n",
       "    <tr style=\"text-align: right;\">\n",
       "      <th></th>\n",
       "      <th>Pregnancies</th>\n",
       "      <th>Glucose</th>\n",
       "      <th>BloodPressure</th>\n",
       "      <th>SkinThickness</th>\n",
       "      <th>Insulin</th>\n",
       "      <th>BMI</th>\n",
       "      <th>DiabetesPedigreeFunction</th>\n",
       "      <th>Age</th>\n",
       "      <th>Outcome</th>\n",
       "    </tr>\n",
       "  </thead>\n",
       "  <tbody>\n",
       "    <tr>\n",
       "      <th>count</th>\n",
       "      <td>768.000000</td>\n",
       "      <td>768.000000</td>\n",
       "      <td>768.000000</td>\n",
       "      <td>768.000000</td>\n",
       "      <td>768.000000</td>\n",
       "      <td>768.000000</td>\n",
       "      <td>768.000000</td>\n",
       "      <td>768.000000</td>\n",
       "      <td>768.000000</td>\n",
       "    </tr>\n",
       "    <tr>\n",
       "      <th>mean</th>\n",
       "      <td>3.845052</td>\n",
       "      <td>120.894531</td>\n",
       "      <td>69.105469</td>\n",
       "      <td>20.536458</td>\n",
       "      <td>79.799479</td>\n",
       "      <td>31.992578</td>\n",
       "      <td>0.471876</td>\n",
       "      <td>33.240885</td>\n",
       "      <td>0.348958</td>\n",
       "    </tr>\n",
       "    <tr>\n",
       "      <th>std</th>\n",
       "      <td>3.369578</td>\n",
       "      <td>31.972618</td>\n",
       "      <td>19.355807</td>\n",
       "      <td>15.952218</td>\n",
       "      <td>115.244002</td>\n",
       "      <td>7.884160</td>\n",
       "      <td>0.331329</td>\n",
       "      <td>11.760232</td>\n",
       "      <td>0.476951</td>\n",
       "    </tr>\n",
       "    <tr>\n",
       "      <th>min</th>\n",
       "      <td>0.000000</td>\n",
       "      <td>0.000000</td>\n",
       "      <td>0.000000</td>\n",
       "      <td>0.000000</td>\n",
       "      <td>0.000000</td>\n",
       "      <td>0.000000</td>\n",
       "      <td>0.078000</td>\n",
       "      <td>21.000000</td>\n",
       "      <td>0.000000</td>\n",
       "    </tr>\n",
       "    <tr>\n",
       "      <th>25%</th>\n",
       "      <td>1.000000</td>\n",
       "      <td>99.000000</td>\n",
       "      <td>62.000000</td>\n",
       "      <td>0.000000</td>\n",
       "      <td>0.000000</td>\n",
       "      <td>27.300000</td>\n",
       "      <td>0.243750</td>\n",
       "      <td>24.000000</td>\n",
       "      <td>0.000000</td>\n",
       "    </tr>\n",
       "    <tr>\n",
       "      <th>50%</th>\n",
       "      <td>3.000000</td>\n",
       "      <td>117.000000</td>\n",
       "      <td>72.000000</td>\n",
       "      <td>23.000000</td>\n",
       "      <td>30.500000</td>\n",
       "      <td>32.000000</td>\n",
       "      <td>0.372500</td>\n",
       "      <td>29.000000</td>\n",
       "      <td>0.000000</td>\n",
       "    </tr>\n",
       "    <tr>\n",
       "      <th>75%</th>\n",
       "      <td>6.000000</td>\n",
       "      <td>140.250000</td>\n",
       "      <td>80.000000</td>\n",
       "      <td>32.000000</td>\n",
       "      <td>127.250000</td>\n",
       "      <td>36.600000</td>\n",
       "      <td>0.626250</td>\n",
       "      <td>41.000000</td>\n",
       "      <td>1.000000</td>\n",
       "    </tr>\n",
       "    <tr>\n",
       "      <th>max</th>\n",
       "      <td>17.000000</td>\n",
       "      <td>199.000000</td>\n",
       "      <td>122.000000</td>\n",
       "      <td>99.000000</td>\n",
       "      <td>846.000000</td>\n",
       "      <td>67.100000</td>\n",
       "      <td>2.420000</td>\n",
       "      <td>81.000000</td>\n",
       "      <td>1.000000</td>\n",
       "    </tr>\n",
       "  </tbody>\n",
       "</table>\n",
       "</div>"
      ],
      "text/plain": [
       "       Pregnancies     Glucose  BloodPressure  SkinThickness     Insulin  \\\n",
       "count   768.000000  768.000000     768.000000     768.000000  768.000000   \n",
       "mean      3.845052  120.894531      69.105469      20.536458   79.799479   \n",
       "std       3.369578   31.972618      19.355807      15.952218  115.244002   \n",
       "min       0.000000    0.000000       0.000000       0.000000    0.000000   \n",
       "25%       1.000000   99.000000      62.000000       0.000000    0.000000   \n",
       "50%       3.000000  117.000000      72.000000      23.000000   30.500000   \n",
       "75%       6.000000  140.250000      80.000000      32.000000  127.250000   \n",
       "max      17.000000  199.000000     122.000000      99.000000  846.000000   \n",
       "\n",
       "              BMI  DiabetesPedigreeFunction         Age     Outcome  \n",
       "count  768.000000                768.000000  768.000000  768.000000  \n",
       "mean    31.992578                  0.471876   33.240885    0.348958  \n",
       "std      7.884160                  0.331329   11.760232    0.476951  \n",
       "min      0.000000                  0.078000   21.000000    0.000000  \n",
       "25%     27.300000                  0.243750   24.000000    0.000000  \n",
       "50%     32.000000                  0.372500   29.000000    0.000000  \n",
       "75%     36.600000                  0.626250   41.000000    1.000000  \n",
       "max     67.100000                  2.420000   81.000000    1.000000  "
      ]
     },
     "execution_count": 41,
     "metadata": {},
     "output_type": "execute_result"
    }
   ],
   "source": [
    "diabetes_dataset.describe()"
   ]
  },
  {
   "cell_type": "code",
   "execution_count": 42,
   "id": "7bfb11cb",
   "metadata": {},
   "outputs": [],
   "source": [
    "# in the above code we use .describe() method to show the descriptive statistics.\n",
    "# here one things that we should notice is that when we do diabetes_dataset.shape and diabetes_dataset.describe() \n",
    "# we use simpe braceses () it is because .describe() is a method but .shape hold the property and don't perform any function"
   ]
  },
  {
   "cell_type": "code",
   "execution_count": 43,
   "id": "b1527274",
   "metadata": {},
   "outputs": [
    {
     "data": {
      "text/plain": [
       "0    500\n",
       "1    268\n",
       "Name: Outcome, dtype: int64"
      ]
     },
     "execution_count": 43,
     "metadata": {},
     "output_type": "execute_result"
    }
   ],
   "source": [
    "diabetes_dataset[\"Outcome\"].value_counts()"
   ]
  },
  {
   "cell_type": "code",
   "execution_count": 44,
   "id": "2d7b815b",
   "metadata": {},
   "outputs": [],
   "source": [
    "#here in the above code we use .value_counts() methods for the \"diabetes_dataset[\"Outcome\"].value_counts()Outcome\" column"
   ]
  },
  {
   "cell_type": "code",
   "execution_count": 45,
   "id": "f9355031",
   "metadata": {},
   "outputs": [
    {
     "data": {
      "text/html": [
       "<div>\n",
       "<style scoped>\n",
       "    .dataframe tbody tr th:only-of-type {\n",
       "        vertical-align: middle;\n",
       "    }\n",
       "\n",
       "    .dataframe tbody tr th {\n",
       "        vertical-align: top;\n",
       "    }\n",
       "\n",
       "    .dataframe thead th {\n",
       "        text-align: right;\n",
       "    }\n",
       "</style>\n",
       "<table border=\"1\" class=\"dataframe\">\n",
       "  <thead>\n",
       "    <tr style=\"text-align: right;\">\n",
       "      <th></th>\n",
       "      <th>Pregnancies</th>\n",
       "      <th>Glucose</th>\n",
       "      <th>BloodPressure</th>\n",
       "      <th>SkinThickness</th>\n",
       "      <th>Insulin</th>\n",
       "      <th>BMI</th>\n",
       "      <th>DiabetesPedigreeFunction</th>\n",
       "      <th>Age</th>\n",
       "    </tr>\n",
       "    <tr>\n",
       "      <th>Outcome</th>\n",
       "      <th></th>\n",
       "      <th></th>\n",
       "      <th></th>\n",
       "      <th></th>\n",
       "      <th></th>\n",
       "      <th></th>\n",
       "      <th></th>\n",
       "      <th></th>\n",
       "    </tr>\n",
       "  </thead>\n",
       "  <tbody>\n",
       "    <tr>\n",
       "      <th>0</th>\n",
       "      <td>3.298000</td>\n",
       "      <td>109.980000</td>\n",
       "      <td>68.184000</td>\n",
       "      <td>19.664000</td>\n",
       "      <td>68.792000</td>\n",
       "      <td>30.304200</td>\n",
       "      <td>0.429734</td>\n",
       "      <td>31.190000</td>\n",
       "    </tr>\n",
       "    <tr>\n",
       "      <th>1</th>\n",
       "      <td>4.865672</td>\n",
       "      <td>141.257463</td>\n",
       "      <td>70.824627</td>\n",
       "      <td>22.164179</td>\n",
       "      <td>100.335821</td>\n",
       "      <td>35.142537</td>\n",
       "      <td>0.550500</td>\n",
       "      <td>37.067164</td>\n",
       "    </tr>\n",
       "  </tbody>\n",
       "</table>\n",
       "</div>"
      ],
      "text/plain": [
       "         Pregnancies     Glucose  BloodPressure  SkinThickness     Insulin  \\\n",
       "Outcome                                                                      \n",
       "0           3.298000  109.980000      68.184000      19.664000   68.792000   \n",
       "1           4.865672  141.257463      70.824627      22.164179  100.335821   \n",
       "\n",
       "               BMI  DiabetesPedigreeFunction        Age  \n",
       "Outcome                                                  \n",
       "0        30.304200                  0.429734  31.190000  \n",
       "1        35.142537                  0.550500  37.067164  "
      ]
     },
     "execution_count": 45,
     "metadata": {},
     "output_type": "execute_result"
    }
   ],
   "source": [
    "diabetes_dataset.groupby(\"Outcome\").mean()"
   ]
  },
  {
   "cell_type": "code",
   "execution_count": 46,
   "id": "f718fd5a",
   "metadata": {},
   "outputs": [],
   "source": [
    "# it gives the output mean of all attributes on the basis of Outcome. \n",
    "# the things we consider is that here in the above code we use [] for \"Outcome\" because we have seleceted that column but () used for function or method calling "
   ]
  },
  {
   "cell_type": "code",
   "execution_count": 59,
   "id": "0ed299bf",
   "metadata": {},
   "outputs": [],
   "source": [
    "X = diabetes_dataset.drop(columns=\"Outcome\", axis =1 ).values\n",
    "y = diabetes_dataset[\"Outcome\"].values"
   ]
  },
  {
   "cell_type": "code",
   "execution_count": 60,
   "id": "c8164955",
   "metadata": {},
   "outputs": [],
   "source": [
    "# Preparing Features (X):\n",
    "\n",
    "# X = diabetes_dataset.drop(columns=\"Outcome\", axis=1).values:\n",
    "\n",
    "# diabetes_dataset.drop(columns=\"Outcome\", axis=1) removes the 'Outcome' column from the dataset. This is done because 'Outcome' is the target variable (what you're trying to predict), and you don't want it included in your features.\n",
    "# axis=1 specifies that the operation should be performed column-wise (as opposed to row-wise).\n",
    "# .values converts the resulting pandas DataFrame into a NumPy array. This is often done because many machine learning algorithms (especially in libraries like scikit-learn) expect the input data in array format.\n",
    "\n",
    "# Preparing Labels (Y):\n",
    "\n",
    "# Y = diabetes_dataset[\"Outcome\"].values:\n",
    "\n",
    "# Here, you're selecting only the 'Outcome' column, which represents the labels or targets for your machine learning model (typically, 0 for non-diabetic and 1 for diabetic).\n",
    "# Again, .values is used to convert the pandas Series into a NumPy array.\n"
   ]
  },
  {
   "cell_type": "code",
   "execution_count": 61,
   "id": "f62c4a41",
   "metadata": {},
   "outputs": [],
   "source": [
    "#scaling and transforming the data"
   ]
  },
  {
   "cell_type": "code",
   "execution_count": 62,
   "id": "f99d9864",
   "metadata": {},
   "outputs": [],
   "source": [
    "scaler = StandardScaler()"
   ]
  },
  {
   "cell_type": "code",
   "execution_count": 63,
   "id": "28ad527a",
   "metadata": {},
   "outputs": [],
   "source": [
    "# we normalize the data  \n"
   ]
  },
  {
   "cell_type": "code",
   "execution_count": 64,
   "id": "efc6c657",
   "metadata": {},
   "outputs": [
    {
     "data": {
      "text/plain": [
       "StandardScaler()"
      ]
     },
     "execution_count": 64,
     "metadata": {},
     "output_type": "execute_result"
    }
   ],
   "source": [
    "scaler.fit(X)"
   ]
  },
  {
   "cell_type": "code",
   "execution_count": 65,
   "id": "78649909",
   "metadata": {},
   "outputs": [],
   "source": [
    "X = scaler.transform(X)"
   ]
  },
  {
   "cell_type": "code",
   "execution_count": 66,
   "id": "c6ee5809",
   "metadata": {},
   "outputs": [
    {
     "data": {
      "text/plain": [
       "array([[ 0.63994726,  0.84832379,  0.14964075, ...,  0.20401277,\n",
       "         0.46849198,  1.4259954 ],\n",
       "       [-0.84488505, -1.12339636, -0.16054575, ..., -0.68442195,\n",
       "        -0.36506078, -0.19067191],\n",
       "       [ 1.23388019,  1.94372388, -0.26394125, ..., -1.10325546,\n",
       "         0.60439732, -0.10558415],\n",
       "       ...,\n",
       "       [ 0.3429808 ,  0.00330087,  0.14964075, ..., -0.73518964,\n",
       "        -0.68519336, -0.27575966],\n",
       "       [-0.84488505,  0.1597866 , -0.47073225, ..., -0.24020459,\n",
       "        -0.37110101,  1.17073215],\n",
       "       [-0.84488505, -0.8730192 ,  0.04624525, ..., -0.20212881,\n",
       "        -0.47378505, -0.87137393]])"
      ]
     },
     "execution_count": 66,
     "metadata": {},
     "output_type": "execute_result"
    }
   ],
   "source": [
    "X"
   ]
  },
  {
   "cell_type": "code",
   "execution_count": 67,
   "id": "4007509d",
   "metadata": {},
   "outputs": [
    {
     "name": "stdout",
     "output_type": "stream",
     "text": [
      "[[ 0.63994726  0.84832379  0.14964075  0.90726993 -0.69289057  0.20401277\n",
      "   0.46849198  1.4259954 ]\n",
      " [-0.84488505 -1.12339636 -0.16054575  0.53090156 -0.69289057 -0.68442195\n",
      "  -0.36506078 -0.19067191]\n",
      " [ 1.23388019  1.94372388 -0.26394125 -1.28821221 -0.69289057 -1.10325546\n",
      "   0.60439732 -0.10558415]\n",
      " [-0.84488505 -0.99820778 -0.16054575  0.15453319  0.12330164 -0.49404308\n",
      "  -0.92076261 -1.04154944]\n",
      " [-1.14185152  0.5040552  -1.50468724  0.90726993  0.76583594  1.4097456\n",
      "   5.4849091  -0.0204964 ]]\n"
     ]
    }
   ],
   "source": [
    "print(X[:5])"
   ]
  },
  {
   "cell_type": "code",
   "execution_count": 68,
   "id": "80269bbe",
   "metadata": {},
   "outputs": [],
   "source": [
    "#Training and spliting data"
   ]
  },
  {
   "cell_type": "code",
   "execution_count": 69,
   "id": "9799f606",
   "metadata": {},
   "outputs": [
    {
     "name": "stdout",
     "output_type": "stream",
     "text": [
      "Train and Test of X: ((768, 8), (614, 8), (154, 8))\n",
      "Train and Test of y: ((768,), (614,), (154,))\n"
     ]
    }
   ],
   "source": [
    "X_train, X_test, y_train, y_test = train_test_split(X, y, test_size=0.2, stratify=y, random_state=42)\n",
    "print(f\"Train and Test of X: {X.shape, X_train.shape, X_test.shape}\")\n",
    "print(f\"Train and Test of y: {y.shape, y_train.shape, y_test.shape}\")\n",
    "     \n",
    "    "
   ]
  },
  {
   "cell_type": "code",
   "execution_count": 70,
   "id": "c3e1fabc",
   "metadata": {},
   "outputs": [],
   "source": [
    "#making predication system "
   ]
  },
  {
   "cell_type": "code",
   "execution_count": 71,
   "id": "75a669ff",
   "metadata": {},
   "outputs": [],
   "source": [
    "def check_data(input_data, model):\n",
    "  # changing this list type of data to numpy array\n",
    "  input_data = np.asarray(input_data)\n",
    "\n",
    "  # now reshape the data to make it work for 1 single data because our system was trained\n",
    "  input_data = input_data.reshape(1, -1)\n",
    "\n",
    "  # now value cannot be given directly it must be standarized\n",
    "  input_data = scaler.transform(input_data)\n",
    "\n",
    "  # prediction of data\n",
    "  prediction = model.predict(input_data)\n",
    "  \n",
    "  return \"Not Diabetic\" if (prediction[0] == 0) else \"Diabetic\"\n",
    "     "
   ]
  },
  {
   "cell_type": "code",
   "execution_count": 75,
   "id": "6dd7ccbb",
   "metadata": {},
   "outputs": [],
   "source": [
    "def predictions(model):\n",
    "  print(f\"True Label = Diabetic, Predicted Label = {check_data((6, 148, 72, 35, 0, 33.6, 0.627, 50), model)}\")\n",
    "  print(f\"True Label = Non Diabetic, Predicted Label = {check_data((1, 85, 66, 29, 0, 26.6, 0.351, 31), model)}\")\n",
    "  print(f\"True Label = Diabetic, Predicted Label = {check_data((5, 166, 72, 19, 175, 25.8, 0.587, 51), model)}\")\n",
    "  print(f\"True Label = Non Diabetic, Predicted Label = {check_data((10, 122, 78, 31, 0, 27.6, 0.512, 45), model)}\")\n",
    "  print(f\"True Label = Diabetic, Predicted Label = {check_data((0, 137, 40, 35, 168, 43.1, 2.288, 33), model)}\")\n",
    "  print(f\"True Label = Diabetic, Predicted Label = {check_data((3, 158, 76, 36, 245, 31.6, 0.851, 28), model)}\")\n",
    "  print(f\"True Label = Diabetic, Predicted Label = {check_data((9, 102, 76, 37, 0, 32.9, 0.665, 46), model)}\")"
   ]
  },
  {
   "cell_type": "code",
   "execution_count": 76,
   "id": "64a92649",
   "metadata": {},
   "outputs": [],
   "source": [
    "#support vector machine"
   ]
  },
  {
   "cell_type": "code",
   "execution_count": 77,
   "id": "b452f35f",
   "metadata": {},
   "outputs": [],
   "source": [
    "#training the model:\n",
    "model_svm = svm.SVC(kernel=\"linear\")\n",
    "     "
   ]
  },
  {
   "cell_type": "code",
   "execution_count": 78,
   "id": "7e0284d8",
   "metadata": {},
   "outputs": [
    {
     "data": {
      "text/plain": [
       "SVC(kernel='linear')"
      ]
     },
     "execution_count": 78,
     "metadata": {},
     "output_type": "execute_result"
    }
   ],
   "source": [
    "model_svm.fit(X_train, y_train)"
   ]
  },
  {
   "cell_type": "code",
   "execution_count": 79,
   "id": "eba506aa",
   "metadata": {},
   "outputs": [],
   "source": [
    "#calculating the accuracy score\n"
   ]
  },
  {
   "cell_type": "code",
   "execution_count": 80,
   "id": "8563ea13",
   "metadata": {},
   "outputs": [
    {
     "name": "stdout",
     "output_type": "stream",
     "text": [
      "Accuracy score of training data: 0.7915309446254072\n"
     ]
    }
   ],
   "source": [
    "# Train data\n",
    "X_train_prediction = model_svm.predict(X_train)\n",
    "training_data_accuracy = accuracy_score(X_train_prediction, y_train)\n",
    "print(f\"Accuracy score of training data: {training_data_accuracy}\")"
   ]
  },
  {
   "cell_type": "code",
   "execution_count": 81,
   "id": "a87a5b81",
   "metadata": {},
   "outputs": [
    {
     "name": "stdout",
     "output_type": "stream",
     "text": [
      "Accuracy score of testing data: 0.7207792207792207\n"
     ]
    }
   ],
   "source": [
    "# Test data\n",
    "X_test_prediction = model_svm.predict(X_test)\n",
    "testing_data_accuracy = accuracy_score(X_test_prediction, y_test)\n",
    "print(f\"Accuracy score of testing data: {testing_data_accuracy}\")"
   ]
  },
  {
   "cell_type": "code",
   "execution_count": 82,
   "id": "9c902a38",
   "metadata": {},
   "outputs": [
    {
     "name": "stdout",
     "output_type": "stream",
     "text": [
      "True Label = Diabetic, Predicted Label = Diabetic\n",
      "True Label = Non Diabetic, Predicted Label = Not Diabetic\n",
      "True Label = Diabetic, Predicted Label = Diabetic\n",
      "True Label = Non Diabetic, Predicted Label = Not Diabetic\n",
      "True Label = Diabetic, Predicted Label = Diabetic\n",
      "True Label = Diabetic, Predicted Label = Diabetic\n",
      "True Label = Diabetic, Predicted Label = Not Diabetic\n"
     ]
    }
   ],
   "source": [
    "predictions(model_svm)"
   ]
  },
  {
   "cell_type": "code",
   "execution_count": 83,
   "id": "e9302a13",
   "metadata": {},
   "outputs": [],
   "source": [
    "#using Logistic Regression"
   ]
  },
  {
   "cell_type": "code",
   "execution_count": 84,
   "id": "8e71ffa2",
   "metadata": {},
   "outputs": [],
   "source": [
    "model_lr = LogisticRegression(solver=\"liblinear\", multi_class=\"ovr\")"
   ]
  },
  {
   "cell_type": "code",
   "execution_count": 85,
   "id": "897c1bb5",
   "metadata": {},
   "outputs": [
    {
     "data": {
      "text/plain": [
       "LogisticRegression(multi_class='ovr', solver='liblinear')"
      ]
     },
     "execution_count": 85,
     "metadata": {},
     "output_type": "execute_result"
    }
   ],
   "source": [
    "model_lr.fit(X_train, y_train)"
   ]
  },
  {
   "cell_type": "code",
   "execution_count": 87,
   "id": "8041e827",
   "metadata": {},
   "outputs": [],
   "source": [
    "#calculating accuracy socre "
   ]
  },
  {
   "cell_type": "code",
   "execution_count": 88,
   "id": "2712c33b",
   "metadata": {},
   "outputs": [
    {
     "name": "stdout",
     "output_type": "stream",
     "text": [
      "Accuracy score of training data: 0.7947882736156352\n"
     ]
    }
   ],
   "source": [
    "# Train data\n",
    "X_train_prediction = model_lr.predict(X_train)\n",
    "training_data_accuracy = accuracy_score(X_train_prediction, y_train)\n",
    "print(f\"Accuracy score of training data: {training_data_accuracy}\")"
   ]
  },
  {
   "cell_type": "code",
   "execution_count": 89,
   "id": "ecc3c0fc",
   "metadata": {},
   "outputs": [
    {
     "name": "stdout",
     "output_type": "stream",
     "text": [
      "Accuracy score of testing data: 0.7142857142857143\n"
     ]
    }
   ],
   "source": [
    "\n",
    "# Test data\n",
    "X_test_prediction = model_lr.predict(X_test)\n",
    "testing_data_accuracy = accuracy_score(X_test_prediction, y_test)\n",
    "print(f\"Accuracy score of testing data: {testing_data_accuracy}\")"
   ]
  },
  {
   "cell_type": "code",
   "execution_count": 90,
   "id": "d1fcea07",
   "metadata": {},
   "outputs": [
    {
     "name": "stdout",
     "output_type": "stream",
     "text": [
      "True Label = Diabetic, Predicted Label = Diabetic\n",
      "True Label = Non Diabetic, Predicted Label = Not Diabetic\n",
      "True Label = Diabetic, Predicted Label = Diabetic\n",
      "True Label = Non Diabetic, Predicted Label = Not Diabetic\n",
      "True Label = Diabetic, Predicted Label = Diabetic\n",
      "True Label = Diabetic, Predicted Label = Diabetic\n",
      "True Label = Diabetic, Predicted Label = Not Diabetic\n"
     ]
    }
   ],
   "source": [
    "predictions(model_lr)"
   ]
  },
  {
   "cell_type": "code",
   "execution_count": 91,
   "id": "f47cda71",
   "metadata": {},
   "outputs": [],
   "source": [
    "#using k-nearest neighbors"
   ]
  },
  {
   "cell_type": "code",
   "execution_count": 92,
   "id": "48d80f08",
   "metadata": {},
   "outputs": [],
   "source": [
    "model_knn = KNeighborsClassifier()"
   ]
  },
  {
   "cell_type": "code",
   "execution_count": 93,
   "id": "69a7ce3e",
   "metadata": {},
   "outputs": [
    {
     "data": {
      "text/plain": [
       "KNeighborsClassifier()"
      ]
     },
     "execution_count": 93,
     "metadata": {},
     "output_type": "execute_result"
    }
   ],
   "source": [
    "model_knn.fit(X_train, y_train)"
   ]
  },
  {
   "cell_type": "code",
   "execution_count": 94,
   "id": "396cadd4",
   "metadata": {},
   "outputs": [],
   "source": [
    "#calculating accuracy score\n"
   ]
  },
  {
   "cell_type": "code",
   "execution_count": 95,
   "id": "c3bbe5b2",
   "metadata": {},
   "outputs": [
    {
     "name": "stdout",
     "output_type": "stream",
     "text": [
      "Accuracy score of training data: 0.8029315960912052\n"
     ]
    }
   ],
   "source": [
    "# Train data\n",
    "X_train_prediction = model_knn.predict(X_train)\n",
    "training_data_accuracy = accuracy_score(X_train_prediction, y_train)\n",
    "print(f\"Accuracy score of training data: {training_data_accuracy}\")"
   ]
  },
  {
   "cell_type": "code",
   "execution_count": 97,
   "id": "21b9dd74",
   "metadata": {},
   "outputs": [
    {
     "name": "stdout",
     "output_type": "stream",
     "text": [
      "Accuracy score of testing data: 0.7077922077922078\n"
     ]
    }
   ],
   "source": [
    " #Test data\n",
    "X_test_prediction = model_knn.predict(X_test)\n",
    "testing_data_accuracy = accuracy_score(X_test_prediction, y_test)\n",
    "print(f\"Accuracy score of testing data: {testing_data_accuracy}\")"
   ]
  },
  {
   "cell_type": "code",
   "execution_count": 98,
   "id": "7f89734b",
   "metadata": {},
   "outputs": [
    {
     "name": "stdout",
     "output_type": "stream",
     "text": [
      "True Label = Diabetic, Predicted Label = Diabetic\n",
      "True Label = Non Diabetic, Predicted Label = Not Diabetic\n",
      "True Label = Diabetic, Predicted Label = Not Diabetic\n",
      "True Label = Non Diabetic, Predicted Label = Diabetic\n",
      "True Label = Diabetic, Predicted Label = Diabetic\n",
      "True Label = Diabetic, Predicted Label = Not Diabetic\n",
      "True Label = Diabetic, Predicted Label = Not Diabetic\n"
     ]
    }
   ],
   "source": [
    "predictions(model_knn)"
   ]
  },
  {
   "cell_type": "code",
   "execution_count": 99,
   "id": "40d3e490",
   "metadata": {},
   "outputs": [],
   "source": [
    "#using Naive Bayes"
   ]
  },
  {
   "cell_type": "code",
   "execution_count": 100,
   "id": "18598aa9",
   "metadata": {},
   "outputs": [],
   "source": [
    "model_nb = GaussianNB()"
   ]
  },
  {
   "cell_type": "code",
   "execution_count": 101,
   "id": "4f59e552",
   "metadata": {},
   "outputs": [
    {
     "data": {
      "text/plain": [
       "GaussianNB()"
      ]
     },
     "execution_count": 101,
     "metadata": {},
     "output_type": "execute_result"
    }
   ],
   "source": [
    "model_nb.fit(X_train, y_train)"
   ]
  },
  {
   "cell_type": "code",
   "execution_count": 102,
   "id": "3c824593",
   "metadata": {},
   "outputs": [],
   "source": [
    "#calculating accuracy score"
   ]
  },
  {
   "cell_type": "code",
   "execution_count": 103,
   "id": "1ae7c228",
   "metadata": {},
   "outputs": [
    {
     "name": "stdout",
     "output_type": "stream",
     "text": [
      "Accuracy score of training data: 0.7736156351791531\n"
     ]
    }
   ],
   "source": [
    "# Train data\n",
    "X_train_prediction = model_nb.predict(X_train)\n",
    "training_data_accuracy = accuracy_score(X_train_prediction, y_train)\n",
    "print(f\"Accuracy score of training data: {training_data_accuracy}\")"
   ]
  },
  {
   "cell_type": "code",
   "execution_count": 104,
   "id": "78fd5641",
   "metadata": {},
   "outputs": [
    {
     "name": "stdout",
     "output_type": "stream",
     "text": [
      "Accuracy score of testing data: 0.7077922077922078\n"
     ]
    }
   ],
   "source": [
    "# Test data\n",
    "X_test_prediction = model_nb.predict(X_test)\n",
    "testing_data_accuracy = accuracy_score(X_test_prediction, y_test)\n",
    "print(f\"Accuracy score of testing data: {testing_data_accuracy}\")"
   ]
  },
  {
   "cell_type": "code",
   "execution_count": 105,
   "id": "3fd279f3",
   "metadata": {},
   "outputs": [
    {
     "name": "stdout",
     "output_type": "stream",
     "text": [
      "True Label = Diabetic, Predicted Label = Diabetic\n",
      "True Label = Non Diabetic, Predicted Label = Not Diabetic\n",
      "True Label = Diabetic, Predicted Label = Diabetic\n",
      "True Label = Non Diabetic, Predicted Label = Not Diabetic\n",
      "True Label = Diabetic, Predicted Label = Diabetic\n",
      "True Label = Diabetic, Predicted Label = Diabetic\n",
      "True Label = Diabetic, Predicted Label = Not Diabetic\n"
     ]
    }
   ],
   "source": [
    "predictions(model_nb)"
   ]
  },
  {
   "cell_type": "code",
   "execution_count": 106,
   "id": "0b3a157b",
   "metadata": {},
   "outputs": [],
   "source": [
    "#using Decision Tree"
   ]
  },
  {
   "cell_type": "code",
   "execution_count": 107,
   "id": "88883494",
   "metadata": {},
   "outputs": [],
   "source": [
    "model_dt = DecisionTreeClassifier()"
   ]
  },
  {
   "cell_type": "code",
   "execution_count": 108,
   "id": "d863d79e",
   "metadata": {},
   "outputs": [
    {
     "data": {
      "text/plain": [
       "DecisionTreeClassifier()"
      ]
     },
     "execution_count": 108,
     "metadata": {},
     "output_type": "execute_result"
    }
   ],
   "source": [
    "model_dt.fit(X_train, y_train)"
   ]
  },
  {
   "cell_type": "code",
   "execution_count": 109,
   "id": "40b4b1f2",
   "metadata": {},
   "outputs": [],
   "source": [
    "#calculating the accuracy score"
   ]
  },
  {
   "cell_type": "code",
   "execution_count": 110,
   "id": "a1368931",
   "metadata": {},
   "outputs": [
    {
     "name": "stdout",
     "output_type": "stream",
     "text": [
      "Accuracy score of training data: 1.0\n"
     ]
    }
   ],
   "source": [
    "# Train data\n",
    "X_train_prediction = model_dt.predict(X_train)\n",
    "training_data_accuracy = accuracy_score(X_train_prediction, y_train)\n",
    "print(f\"Accuracy score of training data: {training_data_accuracy}\")"
   ]
  },
  {
   "cell_type": "code",
   "execution_count": 111,
   "id": "b317f619",
   "metadata": {},
   "outputs": [
    {
     "name": "stdout",
     "output_type": "stream",
     "text": [
      "Accuracy score of testing data: 0.7467532467532467\n"
     ]
    }
   ],
   "source": [
    "# Test data\n",
    "X_test_prediction = model_dt.predict(X_test)\n",
    "testing_data_accuracy = accuracy_score(X_test_prediction, y_test)\n",
    "print(f\"Accuracy score of testing data: {testing_data_accuracy}\")"
   ]
  },
  {
   "cell_type": "code",
   "execution_count": 112,
   "id": "1681b010",
   "metadata": {},
   "outputs": [
    {
     "name": "stdout",
     "output_type": "stream",
     "text": [
      "True Label = Diabetic, Predicted Label = Diabetic\n",
      "True Label = Non Diabetic, Predicted Label = Not Diabetic\n",
      "True Label = Diabetic, Predicted Label = Diabetic\n",
      "True Label = Non Diabetic, Predicted Label = Not Diabetic\n",
      "True Label = Diabetic, Predicted Label = Diabetic\n",
      "True Label = Diabetic, Predicted Label = Diabetic\n",
      "True Label = Diabetic, Predicted Label = Diabetic\n"
     ]
    }
   ],
   "source": [
    "predictions(model_dt)"
   ]
  },
  {
   "cell_type": "code",
   "execution_count": 113,
   "id": "dd16101e",
   "metadata": {},
   "outputs": [],
   "source": [
    "#using random forest"
   ]
  },
  {
   "cell_type": "code",
   "execution_count": 114,
   "id": "e964a7e5",
   "metadata": {},
   "outputs": [],
   "source": [
    "model_rf = RandomForestClassifier(criterion=\"entropy\")\n"
   ]
  },
  {
   "cell_type": "code",
   "execution_count": 115,
   "id": "022b9c68",
   "metadata": {},
   "outputs": [
    {
     "data": {
      "text/plain": [
       "RandomForestClassifier(criterion='entropy')"
      ]
     },
     "execution_count": 115,
     "metadata": {},
     "output_type": "execute_result"
    }
   ],
   "source": [
    "\n",
    "model_rf.fit(X_train, y_train)"
   ]
  },
  {
   "cell_type": "code",
   "execution_count": 116,
   "id": "9c7a589e",
   "metadata": {},
   "outputs": [
    {
     "name": "stdout",
     "output_type": "stream",
     "text": [
      "Accuracy score of training data: 1.0\n"
     ]
    }
   ],
   "source": [
    "# Train data\n",
    "X_train_prediction = model_rf.predict(X_train)\n",
    "training_data_accuracy = accuracy_score(X_train_prediction, y_train)\n",
    "print(f\"Accuracy score of training data: {training_data_accuracy}\")"
   ]
  },
  {
   "cell_type": "code",
   "execution_count": 117,
   "id": "d16f696d",
   "metadata": {},
   "outputs": [
    {
     "name": "stdout",
     "output_type": "stream",
     "text": [
      "Accuracy score of testing data: 0.7532467532467533\n"
     ]
    }
   ],
   "source": [
    "# Test data\n",
    "X_test_prediction = model_rf.predict(X_test)\n",
    "testing_data_accuracy = accuracy_score(X_test_prediction, y_test)\n",
    "print(f\"Accuracy score of testing data: {testing_data_accuracy}\")\n",
    "     "
   ]
  },
  {
   "cell_type": "code",
   "execution_count": 118,
   "id": "b02c5234",
   "metadata": {},
   "outputs": [
    {
     "name": "stdout",
     "output_type": "stream",
     "text": [
      "True Label = Diabetic, Predicted Label = Diabetic\n",
      "True Label = Non Diabetic, Predicted Label = Not Diabetic\n",
      "True Label = Diabetic, Predicted Label = Diabetic\n",
      "True Label = Non Diabetic, Predicted Label = Not Diabetic\n",
      "True Label = Diabetic, Predicted Label = Diabetic\n",
      "True Label = Diabetic, Predicted Label = Diabetic\n",
      "True Label = Diabetic, Predicted Label = Diabetic\n"
     ]
    }
   ],
   "source": [
    "predictions(model_rf)\n",
    "     "
   ]
  },
  {
   "cell_type": "code",
   "execution_count": null,
   "id": "986bcbba",
   "metadata": {},
   "outputs": [],
   "source": []
  }
 ],
 "metadata": {
  "kernelspec": {
   "display_name": "Python 3 (ipykernel)",
   "language": "python",
   "name": "python3"
  },
  "language_info": {
   "codemirror_mode": {
    "name": "ipython",
    "version": 3
   },
   "file_extension": ".py",
   "mimetype": "text/x-python",
   "name": "python",
   "nbconvert_exporter": "python",
   "pygments_lexer": "ipython3",
   "version": "3.9.7"
  }
 },
 "nbformat": 4,
 "nbformat_minor": 5
}
